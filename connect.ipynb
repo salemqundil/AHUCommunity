{
  "nbformat": 4,
  "nbformat_minor": 0,
  "metadata": {
    "colab": {
      "private_outputs": true,
      "provenance": [],
      "machine_shape": "hm",
      "gpuType": "T4",
      "authorship_tag": "ABX9TyN2m79tqJXuUc9sndozXK9G",
      "include_colab_link": true
    },
    "kernelspec": {
      "name": "python3",
      "display_name": "Python 3"
    },
    "language_info": {
      "name": "python"
    },
    "accelerator": "GPU"
  },
  "cells": [
    {
      "cell_type": "markdown",
      "metadata": {
        "id": "view-in-github",
        "colab_type": "text"
      },
      "source": [
        "<a href=\"https://colab.research.google.com/github/salemqundil/AHUCommunity/blob/main/connect.ipynb\" target=\"_parent\"><img src=\"https://colab.research.google.com/assets/colab-badge.svg\" alt=\"Open In Colab\"/></a>"
      ]
    },
    {
      "cell_type": "code",
      "execution_count": null,
      "metadata": {
        "id": "xZqRB_NlKw2J"
      },
      "outputs": [],
      "source": [
        "    pip install colabcode"
      ]
    },
    {
      "cell_type": "code",
      "source": [
        "pip install torch\n"
      ],
      "metadata": {
        "id": "bLkzRji-LD7N"
      },
      "execution_count": null,
      "outputs": []
    },
    {
      "cell_type": "code",
      "source": [
        "pip install --upgrade transformers accelerate"
      ],
      "metadata": {
        "id": "uJXGelVfLMtU"
      },
      "execution_count": null,
      "outputs": []
    },
    {
      "cell_type": "code",
      "source": [
        "pip install  --upgrade transformers accelerate datasets tokenizers sentencepiece -quit"
      ],
      "metadata": {
        "id": "RScnezOcLbsF"
      },
      "execution_count": null,
      "outputs": []
    },
    {
      "cell_type": "code",
      "source": [],
      "metadata": {
        "id": "Z7ZSE4ErMMCv"
      },
      "execution_count": null,
      "outputs": []
    },
    {
      "cell_type": "code",
      "source": [
        "# ✅ Colab-ready: PyTorch + CUDA check\n",
        "import platform\n",
        "import torch\n",
        "\n",
        "print(f\"Python:  {platform.python_version()}\")\n",
        "print(f\"PyTorch: {torch.__version__}\")\n",
        "print(f\"CUDA available: {torch.cuda.is_available()}\")\n",
        "\n",
        "if torch.cuda.is_available():\n",
        "    # List GPUs (will work in Colab GPU runtimes)\n",
        "    try:\n",
        "        import subprocess\n",
        "        print(subprocess.check_output([\"nvidia-smi\", \"-L\"], text=True).strip())\n",
        "    except Exception:\n",
        "        pass\n",
        "\n",
        "    device = torch.device(\"cuda\")\n",
        "    # quick smoke test on GPU\n",
        "    x = torch.randn(3, 3, device=device)\n",
        "    print(\"Tensor device:\", x.device)\n",
        "else:\n",
        "    device = torch.device(\"cpu\")\n",
        "    x = torch.randn(3, 3, device=device)\n",
        "    print(\"Tensor device:\", x.device)\n"
      ],
      "metadata": {
        "id": "zTMAK8MLNEWD"
      },
      "execution_count": null,
      "outputs": []
    }
  ]
}